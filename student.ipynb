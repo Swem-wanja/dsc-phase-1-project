{
 "cells": [
  {
   "cell_type": "markdown",
   "metadata": {},
   "source": [
    "## Final Project Submission\n",
    "\n",
    "Please fill out:\n",
    "* Student name: Sylvia Murithi\n",
    "* Student pace: part time\n",
    "* Scheduled project review date/time: 23rd July 2023\n",
    "* Instructor name: Maryanne Mwikali\n",
    "* Blog post URL:https://github.com/Swem-wanja/dsc-phase-1-project.git\n"
   ]
  },
  {
   "cell_type": "markdown",
   "metadata": {},
   "source": [
    "The aim of this project is to see what genres are doing the best in terms of revenue and what is most liked.\n",
    "We will start off by importing all the necessary libraries and uploading the data we will be working with."
   ]
  },
  {
   "cell_type": "code",
   "execution_count": 1,
   "metadata": {},
   "outputs": [],
   "source": [
    "# Your code here - remember to use markdown cells for comments as well!\n",
    "import pandas as pd\n",
    "import matplotlib.pyplot as plt"
   ]
  },
  {
   "cell_type": "code",
   "execution_count": 2,
   "metadata": {},
   "outputs": [],
   "source": [
    "df = pd.read_csv('Movies_gross_rating.csv')"
   ]
  },
  {
   "cell_type": "code",
   "execution_count": 3,
   "metadata": {},
   "outputs": [
    {
     "data": {
      "text/html": [
       "<div>\n",
       "<style scoped>\n",
       "    .dataframe tbody tr th:only-of-type {\n",
       "        vertical-align: middle;\n",
       "    }\n",
       "\n",
       "    .dataframe tbody tr th {\n",
       "        vertical-align: top;\n",
       "    }\n",
       "\n",
       "    .dataframe thead th {\n",
       "        text-align: right;\n",
       "    }\n",
       "</style>\n",
       "<table border=\"1\" class=\"dataframe\">\n",
       "  <thead>\n",
       "    <tr style=\"text-align: right;\">\n",
       "      <th></th>\n",
       "      <th>index</th>\n",
       "      <th>MovieID</th>\n",
       "      <th>Title</th>\n",
       "      <th>MPAA Rating</th>\n",
       "      <th>Budget</th>\n",
       "      <th>Gross</th>\n",
       "      <th>Release Date</th>\n",
       "      <th>Genre</th>\n",
       "      <th>Runtime</th>\n",
       "      <th>Rating</th>\n",
       "      <th>Rating Count</th>\n",
       "    </tr>\n",
       "  </thead>\n",
       "  <tbody>\n",
       "    <tr>\n",
       "      <th>0</th>\n",
       "      <td>0</td>\n",
       "      <td>1</td>\n",
       "      <td>Look Who's Talking</td>\n",
       "      <td>PG-13</td>\n",
       "      <td>7500000</td>\n",
       "      <td>296000000</td>\n",
       "      <td>12/10/1989</td>\n",
       "      <td>Romance</td>\n",
       "      <td>93</td>\n",
       "      <td>5.9</td>\n",
       "      <td>73638.0</td>\n",
       "    </tr>\n",
       "    <tr>\n",
       "      <th>1</th>\n",
       "      <td>1</td>\n",
       "      <td>2</td>\n",
       "      <td>Driving Miss Daisy</td>\n",
       "      <td>PG</td>\n",
       "      <td>7500000</td>\n",
       "      <td>145793296</td>\n",
       "      <td>13/12/1989</td>\n",
       "      <td>Comedy</td>\n",
       "      <td>99</td>\n",
       "      <td>7.4</td>\n",
       "      <td>91075.0</td>\n",
       "    </tr>\n",
       "    <tr>\n",
       "      <th>2</th>\n",
       "      <td>2</td>\n",
       "      <td>3</td>\n",
       "      <td>Turner &amp; Hooch</td>\n",
       "      <td>PG</td>\n",
       "      <td>13000000</td>\n",
       "      <td>71079915</td>\n",
       "      <td>28/07/1989</td>\n",
       "      <td>Crime</td>\n",
       "      <td>100</td>\n",
       "      <td>7.2</td>\n",
       "      <td>91415.0</td>\n",
       "    </tr>\n",
       "    <tr>\n",
       "      <th>3</th>\n",
       "      <td>3</td>\n",
       "      <td>4</td>\n",
       "      <td>Born on the Fourth of July</td>\n",
       "      <td>R</td>\n",
       "      <td>14000000</td>\n",
       "      <td>161001698</td>\n",
       "      <td>20/12/1989</td>\n",
       "      <td>War</td>\n",
       "      <td>145</td>\n",
       "      <td>7.2</td>\n",
       "      <td>91415.0</td>\n",
       "    </tr>\n",
       "    <tr>\n",
       "      <th>4</th>\n",
       "      <td>4</td>\n",
       "      <td>5</td>\n",
       "      <td>Field of Dreams</td>\n",
       "      <td>PG</td>\n",
       "      <td>15000000</td>\n",
       "      <td>84431625</td>\n",
       "      <td>21/04/1989</td>\n",
       "      <td>Drama</td>\n",
       "      <td>107</td>\n",
       "      <td>7.5</td>\n",
       "      <td>101702.0</td>\n",
       "    </tr>\n",
       "  </tbody>\n",
       "</table>\n",
       "</div>"
      ],
      "text/plain": [
       "   index  MovieID                       Title MPAA Rating    Budget  \\\n",
       "0      0        1          Look Who's Talking       PG-13   7500000   \n",
       "1      1        2          Driving Miss Daisy          PG   7500000   \n",
       "2      2        3              Turner & Hooch          PG  13000000   \n",
       "3      3        4  Born on the Fourth of July           R  14000000   \n",
       "4      4        5             Field of Dreams          PG  15000000   \n",
       "\n",
       "       Gross Release Date    Genre  Runtime  Rating  Rating Count  \n",
       "0  296000000   12/10/1989  Romance       93     5.9       73638.0  \n",
       "1  145793296   13/12/1989   Comedy       99     7.4       91075.0  \n",
       "2   71079915   28/07/1989    Crime      100     7.2       91415.0  \n",
       "3  161001698   20/12/1989      War      145     7.2       91415.0  \n",
       "4   84431625   21/04/1989    Drama      107     7.5      101702.0  "
      ]
     },
     "execution_count": 3,
     "metadata": {},
     "output_type": "execute_result"
    }
   ],
   "source": [
    "df.head()"
   ]
  },
  {
   "cell_type": "code",
   "execution_count": 4,
   "metadata": {
    "scrolled": true
   },
   "outputs": [
    {
     "data": {
      "text/html": [
       "<div>\n",
       "<style scoped>\n",
       "    .dataframe tbody tr th:only-of-type {\n",
       "        vertical-align: middle;\n",
       "    }\n",
       "\n",
       "    .dataframe tbody tr th {\n",
       "        vertical-align: top;\n",
       "    }\n",
       "\n",
       "    .dataframe thead th {\n",
       "        text-align: right;\n",
       "    }\n",
       "</style>\n",
       "<table border=\"1\" class=\"dataframe\">\n",
       "  <thead>\n",
       "    <tr style=\"text-align: right;\">\n",
       "      <th></th>\n",
       "      <th>index</th>\n",
       "      <th>MovieID</th>\n",
       "      <th>Budget</th>\n",
       "      <th>Gross</th>\n",
       "      <th>Runtime</th>\n",
       "      <th>Rating</th>\n",
       "      <th>Rating Count</th>\n",
       "    </tr>\n",
       "  </thead>\n",
       "  <tbody>\n",
       "    <tr>\n",
       "      <th>count</th>\n",
       "      <td>510.000000</td>\n",
       "      <td>510.000000</td>\n",
       "      <td>5.100000e+02</td>\n",
       "      <td>5.100000e+02</td>\n",
       "      <td>510.000000</td>\n",
       "      <td>508.000000</td>\n",
       "      <td>5.080000e+02</td>\n",
       "    </tr>\n",
       "    <tr>\n",
       "      <th>mean</th>\n",
       "      <td>254.500000</td>\n",
       "      <td>255.500000</td>\n",
       "      <td>8.429905e+07</td>\n",
       "      <td>3.831987e+08</td>\n",
       "      <td>117.758824</td>\n",
       "      <td>6.917323</td>\n",
       "      <td>3.392521e+05</td>\n",
       "    </tr>\n",
       "    <tr>\n",
       "      <th>std</th>\n",
       "      <td>147.368586</td>\n",
       "      <td>147.368586</td>\n",
       "      <td>5.995296e+07</td>\n",
       "      <td>2.775539e+08</td>\n",
       "      <td>22.678644</td>\n",
       "      <td>0.888928</td>\n",
       "      <td>3.213388e+05</td>\n",
       "    </tr>\n",
       "    <tr>\n",
       "      <th>min</th>\n",
       "      <td>0.000000</td>\n",
       "      <td>1.000000</td>\n",
       "      <td>6.000000e+04</td>\n",
       "      <td>5.300000e+07</td>\n",
       "      <td>79.000000</td>\n",
       "      <td>4.100000</td>\n",
       "      <td>1.491800e+04</td>\n",
       "    </tr>\n",
       "    <tr>\n",
       "      <th>25%</th>\n",
       "      <td>127.250000</td>\n",
       "      <td>128.250000</td>\n",
       "      <td>3.557500e+07</td>\n",
       "      <td>1.965040e+08</td>\n",
       "      <td>100.000000</td>\n",
       "      <td>6.400000</td>\n",
       "      <td>1.275922e+05</td>\n",
       "    </tr>\n",
       "    <tr>\n",
       "      <th>50%</th>\n",
       "      <td>254.500000</td>\n",
       "      <td>255.500000</td>\n",
       "      <td>7.050000e+07</td>\n",
       "      <td>3.100716e+08</td>\n",
       "      <td>115.000000</td>\n",
       "      <td>6.900000</td>\n",
       "      <td>2.403475e+05</td>\n",
       "    </tr>\n",
       "    <tr>\n",
       "      <th>75%</th>\n",
       "      <td>381.750000</td>\n",
       "      <td>382.750000</td>\n",
       "      <td>1.250000e+08</td>\n",
       "      <td>4.826054e+08</td>\n",
       "      <td>130.000000</td>\n",
       "      <td>7.600000</td>\n",
       "      <td>4.257000e+05</td>\n",
       "    </tr>\n",
       "    <tr>\n",
       "      <th>max</th>\n",
       "      <td>509.000000</td>\n",
       "      <td>510.000000</td>\n",
       "      <td>3.800000e+08</td>\n",
       "      <td>2.787965e+09</td>\n",
       "      <td>201.000000</td>\n",
       "      <td>9.000000</td>\n",
       "      <td>2.127228e+06</td>\n",
       "    </tr>\n",
       "  </tbody>\n",
       "</table>\n",
       "</div>"
      ],
      "text/plain": [
       "            index     MovieID        Budget         Gross     Runtime  \\\n",
       "count  510.000000  510.000000  5.100000e+02  5.100000e+02  510.000000   \n",
       "mean   254.500000  255.500000  8.429905e+07  3.831987e+08  117.758824   \n",
       "std    147.368586  147.368586  5.995296e+07  2.775539e+08   22.678644   \n",
       "min      0.000000    1.000000  6.000000e+04  5.300000e+07   79.000000   \n",
       "25%    127.250000  128.250000  3.557500e+07  1.965040e+08  100.000000   \n",
       "50%    254.500000  255.500000  7.050000e+07  3.100716e+08  115.000000   \n",
       "75%    381.750000  382.750000  1.250000e+08  4.826054e+08  130.000000   \n",
       "max    509.000000  510.000000  3.800000e+08  2.787965e+09  201.000000   \n",
       "\n",
       "           Rating  Rating Count  \n",
       "count  508.000000  5.080000e+02  \n",
       "mean     6.917323  3.392521e+05  \n",
       "std      0.888928  3.213388e+05  \n",
       "min      4.100000  1.491800e+04  \n",
       "25%      6.400000  1.275922e+05  \n",
       "50%      6.900000  2.403475e+05  \n",
       "75%      7.600000  4.257000e+05  \n",
       "max      9.000000  2.127228e+06  "
      ]
     },
     "execution_count": 4,
     "metadata": {},
     "output_type": "execute_result"
    }
   ],
   "source": [
    "df.describe()"
   ]
  },
  {
   "cell_type": "code",
   "execution_count": 5,
   "metadata": {},
   "outputs": [
    {
     "name": "stdout",
     "output_type": "stream",
     "text": [
      "<class 'pandas.core.frame.DataFrame'>\n",
      "RangeIndex: 510 entries, 0 to 509\n",
      "Data columns (total 11 columns):\n",
      " #   Column        Non-Null Count  Dtype  \n",
      "---  ------        --------------  -----  \n",
      " 0   index         510 non-null    int64  \n",
      " 1   MovieID       510 non-null    int64  \n",
      " 2   Title         510 non-null    object \n",
      " 3   MPAA Rating   510 non-null    object \n",
      " 4   Budget        510 non-null    int64  \n",
      " 5   Gross         510 non-null    int64  \n",
      " 6   Release Date  510 non-null    object \n",
      " 7   Genre         510 non-null    object \n",
      " 8   Runtime       510 non-null    int64  \n",
      " 9   Rating        508 non-null    float64\n",
      " 10  Rating Count  508 non-null    float64\n",
      "dtypes: float64(2), int64(5), object(4)\n",
      "memory usage: 44.0+ KB\n"
     ]
    }
   ],
   "source": [
    "df.info()"
   ]
  },
  {
   "cell_type": "code",
   "execution_count": 6,
   "metadata": {},
   "outputs": [
    {
     "data": {
      "text/html": [
       "<div>\n",
       "<style scoped>\n",
       "    .dataframe tbody tr th:only-of-type {\n",
       "        vertical-align: middle;\n",
       "    }\n",
       "\n",
       "    .dataframe tbody tr th {\n",
       "        vertical-align: top;\n",
       "    }\n",
       "\n",
       "    .dataframe thead th {\n",
       "        text-align: right;\n",
       "    }\n",
       "</style>\n",
       "<table border=\"1\" class=\"dataframe\">\n",
       "  <thead>\n",
       "    <tr style=\"text-align: right;\">\n",
       "      <th></th>\n",
       "      <th>index</th>\n",
       "      <th>MovieID</th>\n",
       "      <th>Title</th>\n",
       "      <th>MPAA Rating</th>\n",
       "      <th>Budget</th>\n",
       "      <th>Gross</th>\n",
       "      <th>Release Date</th>\n",
       "      <th>Genre</th>\n",
       "      <th>Runtime</th>\n",
       "      <th>Rating</th>\n",
       "      <th>Rating Count</th>\n",
       "    </tr>\n",
       "  </thead>\n",
       "  <tbody>\n",
       "    <tr>\n",
       "      <th>486</th>\n",
       "      <td>486</td>\n",
       "      <td>487</td>\n",
       "      <td>Fast &amp; Furious 6</td>\n",
       "      <td>PG-13</td>\n",
       "      <td>160000000</td>\n",
       "      <td>788679850</td>\n",
       "      <td>06/05/2013</td>\n",
       "      <td>Action</td>\n",
       "      <td>130</td>\n",
       "      <td>NaN</td>\n",
       "      <td>NaN</td>\n",
       "    </tr>\n",
       "    <tr>\n",
       "      <th>489</th>\n",
       "      <td>489</td>\n",
       "      <td>490</td>\n",
       "      <td>Oz: The Great and Powerful</td>\n",
       "      <td>PG</td>\n",
       "      <td>200000000</td>\n",
       "      <td>491868548</td>\n",
       "      <td>07/03/2013</td>\n",
       "      <td>Drama</td>\n",
       "      <td>130</td>\n",
       "      <td>NaN</td>\n",
       "      <td>NaN</td>\n",
       "    </tr>\n",
       "  </tbody>\n",
       "</table>\n",
       "</div>"
      ],
      "text/plain": [
       "     index  MovieID                       Title MPAA Rating     Budget  \\\n",
       "486    486      487            Fast & Furious 6       PG-13  160000000   \n",
       "489    489      490  Oz: The Great and Powerful          PG  200000000   \n",
       "\n",
       "         Gross Release Date   Genre  Runtime  Rating  Rating Count  \n",
       "486  788679850   06/05/2013  Action      130     NaN           NaN  \n",
       "489  491868548   07/03/2013   Drama      130     NaN           NaN  "
      ]
     },
     "execution_count": 6,
     "metadata": {},
     "output_type": "execute_result"
    }
   ],
   "source": [
    "#We are going to check the empty rows then drop them.\n",
    "df[df.isnull().any(axis=1)]"
   ]
  },
  {
   "cell_type": "code",
   "execution_count": 7,
   "metadata": {},
   "outputs": [
    {
     "data": {
      "text/html": [
       "<div>\n",
       "<style scoped>\n",
       "    .dataframe tbody tr th:only-of-type {\n",
       "        vertical-align: middle;\n",
       "    }\n",
       "\n",
       "    .dataframe tbody tr th {\n",
       "        vertical-align: top;\n",
       "    }\n",
       "\n",
       "    .dataframe thead th {\n",
       "        text-align: right;\n",
       "    }\n",
       "</style>\n",
       "<table border=\"1\" class=\"dataframe\">\n",
       "  <thead>\n",
       "    <tr style=\"text-align: right;\">\n",
       "      <th></th>\n",
       "      <th>index</th>\n",
       "      <th>MovieID</th>\n",
       "      <th>Title</th>\n",
       "      <th>MPAA Rating</th>\n",
       "      <th>Budget</th>\n",
       "      <th>Gross</th>\n",
       "      <th>Release Date</th>\n",
       "      <th>Genre</th>\n",
       "      <th>Runtime</th>\n",
       "      <th>Rating</th>\n",
       "      <th>Rating Count</th>\n",
       "    </tr>\n",
       "  </thead>\n",
       "  <tbody>\n",
       "    <tr>\n",
       "      <th>0</th>\n",
       "      <td>0</td>\n",
       "      <td>1</td>\n",
       "      <td>Look Who's Talking</td>\n",
       "      <td>PG-13</td>\n",
       "      <td>7500000</td>\n",
       "      <td>296000000</td>\n",
       "      <td>12/10/1989</td>\n",
       "      <td>Romance</td>\n",
       "      <td>93</td>\n",
       "      <td>5.9</td>\n",
       "      <td>73638.0</td>\n",
       "    </tr>\n",
       "    <tr>\n",
       "      <th>1</th>\n",
       "      <td>1</td>\n",
       "      <td>2</td>\n",
       "      <td>Driving Miss Daisy</td>\n",
       "      <td>PG</td>\n",
       "      <td>7500000</td>\n",
       "      <td>145793296</td>\n",
       "      <td>13/12/1989</td>\n",
       "      <td>Comedy</td>\n",
       "      <td>99</td>\n",
       "      <td>7.4</td>\n",
       "      <td>91075.0</td>\n",
       "    </tr>\n",
       "    <tr>\n",
       "      <th>2</th>\n",
       "      <td>2</td>\n",
       "      <td>3</td>\n",
       "      <td>Turner &amp; Hooch</td>\n",
       "      <td>PG</td>\n",
       "      <td>13000000</td>\n",
       "      <td>71079915</td>\n",
       "      <td>28/07/1989</td>\n",
       "      <td>Crime</td>\n",
       "      <td>100</td>\n",
       "      <td>7.2</td>\n",
       "      <td>91415.0</td>\n",
       "    </tr>\n",
       "    <tr>\n",
       "      <th>3</th>\n",
       "      <td>3</td>\n",
       "      <td>4</td>\n",
       "      <td>Born on the Fourth of July</td>\n",
       "      <td>R</td>\n",
       "      <td>14000000</td>\n",
       "      <td>161001698</td>\n",
       "      <td>20/12/1989</td>\n",
       "      <td>War</td>\n",
       "      <td>145</td>\n",
       "      <td>7.2</td>\n",
       "      <td>91415.0</td>\n",
       "    </tr>\n",
       "    <tr>\n",
       "      <th>4</th>\n",
       "      <td>4</td>\n",
       "      <td>5</td>\n",
       "      <td>Field of Dreams</td>\n",
       "      <td>PG</td>\n",
       "      <td>15000000</td>\n",
       "      <td>84431625</td>\n",
       "      <td>21/04/1989</td>\n",
       "      <td>Drama</td>\n",
       "      <td>107</td>\n",
       "      <td>7.5</td>\n",
       "      <td>101702.0</td>\n",
       "    </tr>\n",
       "    <tr>\n",
       "      <th>...</th>\n",
       "      <td>...</td>\n",
       "      <td>...</td>\n",
       "      <td>...</td>\n",
       "      <td>...</td>\n",
       "      <td>...</td>\n",
       "      <td>...</td>\n",
       "      <td>...</td>\n",
       "      <td>...</td>\n",
       "      <td>...</td>\n",
       "      <td>...</td>\n",
       "      <td>...</td>\n",
       "    </tr>\n",
       "    <tr>\n",
       "      <th>505</th>\n",
       "      <td>505</td>\n",
       "      <td>506</td>\n",
       "      <td>Big Hero 6</td>\n",
       "      <td>PG</td>\n",
       "      <td>165000000</td>\n",
       "      <td>652105443</td>\n",
       "      <td>24/10/2014</td>\n",
       "      <td>Animation</td>\n",
       "      <td>102</td>\n",
       "      <td>7.8</td>\n",
       "      <td>380953.0</td>\n",
       "    </tr>\n",
       "    <tr>\n",
       "      <th>506</th>\n",
       "      <td>506</td>\n",
       "      <td>507</td>\n",
       "      <td>Interstellar</td>\n",
       "      <td>PG-13</td>\n",
       "      <td>165000000</td>\n",
       "      <td>675120017</td>\n",
       "      <td>05/11/2014</td>\n",
       "      <td>Science Fiction</td>\n",
       "      <td>169</td>\n",
       "      <td>8.6</td>\n",
       "      <td>1343549.0</td>\n",
       "    </tr>\n",
       "    <tr>\n",
       "      <th>507</th>\n",
       "      <td>507</td>\n",
       "      <td>508</td>\n",
       "      <td>Captain America: The Winter Soldier</td>\n",
       "      <td>PG-13</td>\n",
       "      <td>170000000</td>\n",
       "      <td>714766572</td>\n",
       "      <td>20/03/2014</td>\n",
       "      <td>Action</td>\n",
       "      <td>136</td>\n",
       "      <td>7.7</td>\n",
       "      <td>685903.0</td>\n",
       "    </tr>\n",
       "    <tr>\n",
       "      <th>508</th>\n",
       "      <td>508</td>\n",
       "      <td>509</td>\n",
       "      <td>Dawn of the Planet of the Apes</td>\n",
       "      <td>PG-13</td>\n",
       "      <td>170000000</td>\n",
       "      <td>710644566</td>\n",
       "      <td>26/06/2014</td>\n",
       "      <td>Science Fiction</td>\n",
       "      <td>130</td>\n",
       "      <td>7.6</td>\n",
       "      <td>395425.0</td>\n",
       "    </tr>\n",
       "    <tr>\n",
       "      <th>509</th>\n",
       "      <td>509</td>\n",
       "      <td>510</td>\n",
       "      <td>Guardians of the Galaxy</td>\n",
       "      <td>PG-13</td>\n",
       "      <td>170000000</td>\n",
       "      <td>773328629</td>\n",
       "      <td>30/07/2014</td>\n",
       "      <td>Action</td>\n",
       "      <td>121</td>\n",
       "      <td>8.0</td>\n",
       "      <td>978222.0</td>\n",
       "    </tr>\n",
       "  </tbody>\n",
       "</table>\n",
       "<p>508 rows × 11 columns</p>\n",
       "</div>"
      ],
      "text/plain": [
       "     index  MovieID                                Title MPAA Rating  \\\n",
       "0        0        1                   Look Who's Talking       PG-13   \n",
       "1        1        2                   Driving Miss Daisy          PG   \n",
       "2        2        3                       Turner & Hooch          PG   \n",
       "3        3        4           Born on the Fourth of July           R   \n",
       "4        4        5                      Field of Dreams          PG   \n",
       "..     ...      ...                                  ...         ...   \n",
       "505    505      506                           Big Hero 6          PG   \n",
       "506    506      507                         Interstellar       PG-13   \n",
       "507    507      508  Captain America: The Winter Soldier       PG-13   \n",
       "508    508      509       Dawn of the Planet of the Apes       PG-13   \n",
       "509    509      510              Guardians of the Galaxy       PG-13   \n",
       "\n",
       "        Budget      Gross Release Date            Genre  Runtime  Rating  \\\n",
       "0      7500000  296000000   12/10/1989          Romance       93     5.9   \n",
       "1      7500000  145793296   13/12/1989           Comedy       99     7.4   \n",
       "2     13000000   71079915   28/07/1989            Crime      100     7.2   \n",
       "3     14000000  161001698   20/12/1989              War      145     7.2   \n",
       "4     15000000   84431625   21/04/1989            Drama      107     7.5   \n",
       "..         ...        ...          ...              ...      ...     ...   \n",
       "505  165000000  652105443   24/10/2014        Animation      102     7.8   \n",
       "506  165000000  675120017   05/11/2014  Science Fiction      169     8.6   \n",
       "507  170000000  714766572   20/03/2014           Action      136     7.7   \n",
       "508  170000000  710644566   26/06/2014  Science Fiction      130     7.6   \n",
       "509  170000000  773328629   30/07/2014           Action      121     8.0   \n",
       "\n",
       "     Rating Count  \n",
       "0         73638.0  \n",
       "1         91075.0  \n",
       "2         91415.0  \n",
       "3         91415.0  \n",
       "4        101702.0  \n",
       "..            ...  \n",
       "505      380953.0  \n",
       "506     1343549.0  \n",
       "507      685903.0  \n",
       "508      395425.0  \n",
       "509      978222.0  \n",
       "\n",
       "[508 rows x 11 columns]"
      ]
     },
     "execution_count": 7,
     "metadata": {},
     "output_type": "execute_result"
    }
   ],
   "source": [
    "df.dropna()"
   ]
  },
  {
   "cell_type": "code",
   "execution_count": 8,
   "metadata": {},
   "outputs": [
    {
     "data": {
      "text/plain": [
       "Comedy             94\n",
       "Action             77\n",
       "Animation          63\n",
       "Drama              57\n",
       "Thriller           34\n",
       "Science Fiction    31\n",
       "Family             28\n",
       "Adventure          26\n",
       "Romance            26\n",
       "Fantasy            22\n",
       "Crime              16\n",
       "Mystery            10\n",
       "Horror              9\n",
       "War                 8\n",
       "Western             5\n",
       "History             4\n",
       "Name: Genre, dtype: int64"
      ]
     },
     "execution_count": 8,
     "metadata": {},
     "output_type": "execute_result"
    }
   ],
   "source": [
    "#Checking the number of times each genre appears.\n",
    "df['Genre'].value_counts()"
   ]
  },
  {
   "cell_type": "code",
   "execution_count": 9,
   "metadata": {},
   "outputs": [
    {
     "data": {
      "text/plain": [
       "Genre\n",
       "Action             7.023684\n",
       "Adventure          6.665385\n",
       "Animation          7.190476\n",
       "Comedy             6.617021\n",
       "Crime              6.875000\n",
       "Drama              7.246429\n",
       "Family             6.089286\n",
       "Fantasy            7.436364\n",
       "History            7.625000\n",
       "Horror             6.644444\n",
       "Mystery            6.820000\n",
       "Romance            6.361538\n",
       "Science Fiction    7.200000\n",
       "Thriller           7.014706\n",
       "War                7.412500\n",
       "Western            7.420000\n",
       "Name: Rating, dtype: float64"
      ]
     },
     "execution_count": 9,
     "metadata": {},
     "output_type": "execute_result"
    }
   ],
   "source": [
    "genre_ratings = df.groupby('Genre')['Rating'].mean()\n",
    "genre_ratings"
   ]
  },
  {
   "cell_type": "code",
   "execution_count": 10,
   "metadata": {},
   "outputs": [
    {
     "data": {
      "text/plain": [
       "Genre\n",
       "History            7.625000\n",
       "Fantasy            7.436364\n",
       "Western            7.420000\n",
       "War                7.412500\n",
       "Drama              7.246429\n",
       "Science Fiction    7.200000\n",
       "Animation          7.190476\n",
       "Action             7.023684\n",
       "Thriller           7.014706\n",
       "Crime              6.875000\n",
       "Mystery            6.820000\n",
       "Adventure          6.665385\n",
       "Horror             6.644444\n",
       "Comedy             6.617021\n",
       "Romance            6.361538\n",
       "Family             6.089286\n",
       "Name: Rating, dtype: float64"
      ]
     },
     "execution_count": 10,
     "metadata": {},
     "output_type": "execute_result"
    }
   ],
   "source": [
    "sorted_genres = genre_ratings.sort_values(ascending=False)\n",
    "sorted_genres"
   ]
  },
  {
   "cell_type": "code",
   "execution_count": 11,
   "metadata": {},
   "outputs": [
    {
     "data": {
      "text/plain": [
       "Genre\n",
       "Action             477202.539474\n",
       "Adventure          399555.076923\n",
       "Animation          325150.920635\n",
       "Comedy             220524.127660\n",
       "Crime              223550.250000\n",
       "Drama              291762.785714\n",
       "Family             153538.357143\n",
       "Fantasy            602313.954545\n",
       "History            448652.000000\n",
       "Horror             207496.222222\n",
       "Mystery            288529.200000\n",
       "Romance            205984.269231\n",
       "Science Fiction    493352.290323\n",
       "Thriller           419500.029412\n",
       "War                411161.000000\n",
       "Western            451161.600000\n",
       "Name: Rating Count, dtype: float64"
      ]
     },
     "execution_count": 11,
     "metadata": {},
     "output_type": "execute_result"
    }
   ],
   "source": [
    "genre_count = df.groupby('Genre')['Rating Count'].mean()\n",
    "genre_count"
   ]
  },
  {
   "cell_type": "code",
   "execution_count": 12,
   "metadata": {},
   "outputs": [
    {
     "data": {
      "text/plain": [
       "Genre\n",
       "Fantasy            602313.954545\n",
       "Science Fiction    493352.290323\n",
       "Action             477202.539474\n",
       "Western            451161.600000\n",
       "History            448652.000000\n",
       "Thriller           419500.029412\n",
       "War                411161.000000\n",
       "Adventure          399555.076923\n",
       "Animation          325150.920635\n",
       "Drama              291762.785714\n",
       "Mystery            288529.200000\n",
       "Crime              223550.250000\n",
       "Comedy             220524.127660\n",
       "Horror             207496.222222\n",
       "Romance            205984.269231\n",
       "Family             153538.357143\n",
       "Name: Rating Count, dtype: float64"
      ]
     },
     "execution_count": 12,
     "metadata": {},
     "output_type": "execute_result"
    }
   ],
   "source": [
    "genre_count.sort_values(ascending=False)"
   ]
  },
  {
   "cell_type": "code",
   "execution_count": 13,
   "metadata": {},
   "outputs": [
    {
     "data": {
      "image/png": "[encoded data removed]",
      "text/plain": [
       "<Figure size 864x432 with 1 Axes>"
      ]
     },
     "metadata": {
      "needs_background": "light"
     },
     "output_type": "display_data"
    }
   ],
   "source": [
    "import pandas as pd\n",
    "import seaborn as sns\n",
    "import matplotlib.pyplot as plt\n",
    "\n",
    "# Plotting the relation between 'Genre' and 'Rating' using a bar plot\n",
    "plt.figure(figsize=(12, 6))\n",
    "sns.barplot(x='Genre', y='Rating', data=df)\n",
    "plt.xticks(rotation=90)\n",
    "plt.xlabel('Genre')\n",
    "plt.ylabel('Rating')\n",
    "plt.title('Average Rating by Genre')\n",
    "plt.show()"
   ]
  },
  {
   "cell_type": "code",
   "execution_count": 14,
   "metadata": {},
   "outputs": [
    {
     "data": {
      "image/png": "[encoded data removed]",
      "text/plain": [
       "<Figure size 864x432 with 1 Axes>"
      ]
     },
     "metadata": {
      "needs_background": "light"
     },
     "output_type": "display_data"
    }
   ],
   "source": [
    "plt.figure(figsize=(12, 6))\n",
    "sns.barplot(x='Genre', y='Rating Count', data=df)\n",
    "plt.xticks(rotation=90)\n",
    "plt.xlabel('Genre')\n",
    "plt.ylabel('Rating Count')\n",
    "plt.title('Rating Count by Genre')\n",
    "plt.show()"
   ]
  },
  {
   "cell_type": "code",
   "execution_count": 15,
   "metadata": {},
   "outputs": [
    {
     "data": {
      "image/png": "[encoded data removed]",
      "text/plain": [
       "<Figure size 864x432 with 1 Axes>"
      ]
     },
     "metadata": {
      "needs_background": "light"
     },
     "output_type": "display_data"
    },
    {
     "data": {
      "image/png": "[encoded data removed]",
      "text/plain": [
       "<Figure size 864x432 with 1 Axes>"
      ]
     },
     "metadata": {
      "needs_background": "light"
     },
     "output_type": "display_data"
    }
   ],
   "source": [
    "plt.figure(figsize=(12, 6))\n",
    "sns.boxplot(x='Genre', y='Budget', data=df)\n",
    "plt.xticks(rotation=90)\n",
    "plt.xlabel('Genre')\n",
    "plt.ylabel('Budget')\n",
    "plt.title('Distribution of Budget by Genre')\n",
    "plt.show()\n",
    "\n",
    "plt.figure(figsize=(12, 6))\n",
    "sns.boxplot(x='Genre', y='Gross', data=df)\n",
    "plt.xticks(rotation=90)\n",
    "plt.xlabel('Genre')\n",
    "plt.ylabel('Gross')\n",
    "plt.title('Distribution of Gross by Genre')\n",
    "plt.show()"
   ]
  },
  {
   "cell_type": "code",
   "execution_count": 16,
   "metadata": {},
   "outputs": [
    {
     "data": {
      "text/plain": [
       "Genre\n",
       "Action             4.727080e+08\n",
       "Adventure          6.013784e+08\n",
       "Animation          5.258052e+08\n",
       "Comedy             2.330900e+08\n",
       "Crime              1.879282e+08\n",
       "Drama              2.369110e+08\n",
       "Family             2.900095e+08\n",
       "Fantasy            7.806203e+08\n",
       "History            2.753178e+08\n",
       "Horror             2.079729e+08\n",
       "Mystery            3.666867e+08\n",
       "Romance            3.878037e+08\n",
       "Science Fiction    4.390405e+08\n",
       "Thriller           3.454838e+08\n",
       "War                3.741882e+08\n",
       "Western            2.966232e+08\n",
       "Name: Gross, dtype: float64"
      ]
     },
     "execution_count": 16,
     "metadata": {},
     "output_type": "execute_result"
    }
   ],
   "source": [
    "average_gross_by_genre = df.groupby('Genre')['Gross'].mean()\n",
    "average_gross_by_genre"
   ]
  },
  {
   "cell_type": "code",
   "execution_count": 17,
   "metadata": {
    "scrolled": false
   },
   "outputs": [
    {
     "data": {
      "image/png": "[encoded data removed]",
      "text/plain": [
       "<Figure size 720x432 with 1 Axes>"
      ]
     },
     "metadata": {
      "needs_background": "light"
     },
     "output_type": "display_data"
    }
   ],
   "source": [
    "# Create the bar chart for the Gross earning by genre\n",
    "plt.figure(figsize=(10, 6))\n",
    "plt.bar(average_gross_by_genre.index, average_gross_by_genre.values, color='b')\n",
    "plt.xlabel('Genre')\n",
    "plt.ylabel('Average Gross Earnings')\n",
    "plt.title('Average Gross Earnings by Genre')\n",
    "plt.xticks(rotation=45)  # Rotate genre labels for better readability\n",
    "plt.tight_layout()\n",
    "\n",
    "# Show the plot\n",
    "plt.show()"
   ]
  },
  {
   "cell_type": "markdown",
   "metadata": {},
   "source": [
    "SUMMARY\n",
    "\n",
    "\n",
    "There is a correlation between the genres and the rating and the number of people rating the movies. The ratings mean is affected by the number of people voting. Few people can vote and give a genre a high rating but it does not mean that a lot of people are watching the movies.\n",
    "From this I have concluded it is better to review the gross of each genre and the rating count. If more people are watching the movies it means there is a huge crowd for the movies.\n",
    "Fantasy,Action and Science Fiction are the overlapping genres top five movies based on the gross and rating count."
   ]
  }
 ],
 "metadata": {
  "kernelspec": {
   "display_name": "Python 3",
   "language": "python",
   "name": "python3"
  },
  "language_info": {
   "codemirror_mode": {
    "name": "ipython",
    "version": 3
   },
   "file_extension": ".py",
   "mimetype": "text/x-python",
   "name": "python",
   "nbconvert_exporter": "python",
   "pygments_lexer": "ipython3",
   "version": "3.8.5"
  }
 },
 "nbformat": 4,
 "nbformat_minor": 2
}
